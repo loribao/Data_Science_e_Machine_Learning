{
 "cells": [
  {
   "cell_type": "code",
   "execution_count": 128,
   "metadata": {},
   "outputs": [],
   "source": [
    "import pandas as pd\n",
    "import numpy as np\n",
    "from sklearn.preprocessing import OneHotEncoder\n",
    "from sklearn.linear_model import LogisticRegression"
   ]
  },
  {
   "cell_type": "code",
   "execution_count": 118,
   "metadata": {},
   "outputs": [],
   "source": [
    "Bkp = pd.read_csv('~/Downloads/Projeto_cientista-de-dados/Credito.csv',encoding=\"ISO-8859-1\",sep=';')\n",
    "Credito = Bkp"
   ]
  },
  {
   "cell_type": "code",
   "execution_count": 119,
   "metadata": {},
   "outputs": [
    {
     "data": {
      "text/html": [
       "<div>\n",
       "<style scoped>\n",
       "    .dataframe tbody tr th:only-of-type {\n",
       "        vertical-align: middle;\n",
       "    }\n",
       "\n",
       "    .dataframe tbody tr th {\n",
       "        vertical-align: top;\n",
       "    }\n",
       "\n",
       "    .dataframe thead th {\n",
       "        text-align: right;\n",
       "    }\n",
       "</style>\n",
       "<table border=\"1\" class=\"dataframe\">\n",
       "  <thead>\n",
       "    <tr style=\"text-align: right;\">\n",
       "      <th></th>\n",
       "      <th>CHEQUEESPECIAL</th>\n",
       "      <th>USO_CREDITO</th>\n",
       "      <th>HISTORICO_CREDITO</th>\n",
       "      <th>PROPOSITO</th>\n",
       "      <th>BALANCO_ATUAL</th>\n",
       "      <th>BALANCO_MEDIO_CREDITO</th>\n",
       "      <th>EMPREGADO</th>\n",
       "      <th>LOCAL</th>\n",
       "      <th>ESTADOCIVIL</th>\n",
       "      <th>OUTRASFUNCOES</th>\n",
       "      <th>RESIDENCIADESDE</th>\n",
       "      <th>TIPOSBENS</th>\n",
       "      <th>IDADE</th>\n",
       "      <th>OUTROSPLANOSPGTO</th>\n",
       "      <th>RESIDENCIA</th>\n",
       "      <th>CREDITOSEXISTENTES</th>\n",
       "      <th>EMPREGO</th>\n",
       "      <th>DEPENDENTES</th>\n",
       "      <th>TRABAESTRANGEIRO</th>\n",
       "      <th>CLASSE</th>\n",
       "    </tr>\n",
       "  </thead>\n",
       "  <tbody>\n",
       "    <tr>\n",
       "      <th>0</th>\n",
       "      <td>&lt;0</td>\n",
       "      <td>6</td>\n",
       "      <td>crítica / outros de crédito existente</td>\n",
       "      <td>Computador/TV</td>\n",
       "      <td>1169</td>\n",
       "      <td>nenhuma economia conhecida</td>\n",
       "      <td>&gt;=7</td>\n",
       "      <td>4</td>\n",
       "      <td>masculino solteiro</td>\n",
       "      <td>nenhum</td>\n",
       "      <td>4</td>\n",
       "      <td>bens imóveis</td>\n",
       "      <td>67</td>\n",
       "      <td>nenhum</td>\n",
       "      <td>própria</td>\n",
       "      <td>2</td>\n",
       "      <td>especializado</td>\n",
       "      <td>1</td>\n",
       "      <td>sim</td>\n",
       "      <td>bom</td>\n",
       "    </tr>\n",
       "    <tr>\n",
       "      <th>1</th>\n",
       "      <td>0&lt;=X&lt;200</td>\n",
       "      <td>48</td>\n",
       "      <td>existente e pago</td>\n",
       "      <td>Computador/TV</td>\n",
       "      <td>5951</td>\n",
       "      <td>&lt;100</td>\n",
       "      <td>1&lt;=X&lt;4</td>\n",
       "      <td>2</td>\n",
       "      <td>fem div/cas</td>\n",
       "      <td>nenhum</td>\n",
       "      <td>2</td>\n",
       "      <td>bens imóveis</td>\n",
       "      <td>22</td>\n",
       "      <td>nenhum</td>\n",
       "      <td>própria</td>\n",
       "      <td>1</td>\n",
       "      <td>especializado</td>\n",
       "      <td>1</td>\n",
       "      <td>sim</td>\n",
       "      <td>ruim</td>\n",
       "    </tr>\n",
       "    <tr>\n",
       "      <th>2</th>\n",
       "      <td>sem cheque</td>\n",
       "      <td>12</td>\n",
       "      <td>crítica / outros de crédito existente</td>\n",
       "      <td>educação</td>\n",
       "      <td>2096</td>\n",
       "      <td>&lt;100</td>\n",
       "      <td>4&lt;=X&lt;7</td>\n",
       "      <td>2</td>\n",
       "      <td>masculino solteiro</td>\n",
       "      <td>nenhum</td>\n",
       "      <td>3</td>\n",
       "      <td>bens imóveis</td>\n",
       "      <td>49</td>\n",
       "      <td>nenhum</td>\n",
       "      <td>própria</td>\n",
       "      <td>1</td>\n",
       "      <td>não especializado</td>\n",
       "      <td>2</td>\n",
       "      <td>sim</td>\n",
       "      <td>bom</td>\n",
       "    </tr>\n",
       "    <tr>\n",
       "      <th>3</th>\n",
       "      <td>&lt;0</td>\n",
       "      <td>42</td>\n",
       "      <td>existente e pago</td>\n",
       "      <td>mobilia/equipamento</td>\n",
       "      <td>7882</td>\n",
       "      <td>&lt;100</td>\n",
       "      <td>4&lt;=X&lt;7</td>\n",
       "      <td>2</td>\n",
       "      <td>masculino solteiro</td>\n",
       "      <td>fiador</td>\n",
       "      <td>4</td>\n",
       "      <td>seguro de vida</td>\n",
       "      <td>45</td>\n",
       "      <td>nenhum</td>\n",
       "      <td>gratuitamente</td>\n",
       "      <td>1</td>\n",
       "      <td>especializado</td>\n",
       "      <td>2</td>\n",
       "      <td>sim</td>\n",
       "      <td>bom</td>\n",
       "    </tr>\n",
       "    <tr>\n",
       "      <th>4</th>\n",
       "      <td>&lt;0</td>\n",
       "      <td>24</td>\n",
       "      <td>atrasos anteriores</td>\n",
       "      <td>carro novo</td>\n",
       "      <td>4870</td>\n",
       "      <td>&lt;100</td>\n",
       "      <td>1&lt;=X&lt;4</td>\n",
       "      <td>3</td>\n",
       "      <td>masculino solteiro</td>\n",
       "      <td>nenhum</td>\n",
       "      <td>4</td>\n",
       "      <td>nenhuma conhecida</td>\n",
       "      <td>53</td>\n",
       "      <td>nenhum</td>\n",
       "      <td>gratuitamente</td>\n",
       "      <td>2</td>\n",
       "      <td>especializado</td>\n",
       "      <td>2</td>\n",
       "      <td>sim</td>\n",
       "      <td>ruim</td>\n",
       "    </tr>\n",
       "  </tbody>\n",
       "</table>\n",
       "</div>"
      ],
      "text/plain": [
       "  CHEQUEESPECIAL  USO_CREDITO                      HISTORICO_CREDITO  \\\n",
       "0             <0            6  crítica / outros de crédito existente   \n",
       "1       0<=X<200           48                       existente e pago   \n",
       "2     sem cheque           12  crítica / outros de crédito existente   \n",
       "3             <0           42                       existente e pago   \n",
       "4             <0           24                     atrasos anteriores   \n",
       "\n",
       "             PROPOSITO  BALANCO_ATUAL       BALANCO_MEDIO_CREDITO EMPREGADO  \\\n",
       "0        Computador/TV           1169  nenhuma economia conhecida       >=7   \n",
       "1        Computador/TV           5951                        <100    1<=X<4   \n",
       "2             educação           2096                        <100    4<=X<7   \n",
       "3  mobilia/equipamento           7882                        <100    4<=X<7   \n",
       "4           carro novo           4870                        <100    1<=X<4   \n",
       "\n",
       "   LOCAL         ESTADOCIVIL OUTRASFUNCOES  RESIDENCIADESDE  \\\n",
       "0      4  masculino solteiro        nenhum                4   \n",
       "1      2         fem div/cas        nenhum                2   \n",
       "2      2  masculino solteiro        nenhum                3   \n",
       "3      2  masculino solteiro        fiador                4   \n",
       "4      3  masculino solteiro        nenhum                4   \n",
       "\n",
       "           TIPOSBENS  IDADE OUTROSPLANOSPGTO     RESIDENCIA  \\\n",
       "0       bens imóveis     67           nenhum        própria   \n",
       "1       bens imóveis     22           nenhum        própria   \n",
       "2       bens imóveis     49           nenhum        própria   \n",
       "3     seguro de vida     45           nenhum  gratuitamente   \n",
       "4  nenhuma conhecida     53           nenhum  gratuitamente   \n",
       "\n",
       "   CREDITOSEXISTENTES            EMPREGO  DEPENDENTES TRABAESTRANGEIRO CLASSE  \n",
       "0                   2      especializado            1              sim    bom  \n",
       "1                   1      especializado            1              sim   ruim  \n",
       "2                   1  não especializado            2              sim    bom  \n",
       "3                   1      especializado            2              sim    bom  \n",
       "4                   2      especializado            2              sim   ruim  "
      ]
     },
     "execution_count": 119,
     "metadata": {},
     "output_type": "execute_result"
    }
   ],
   "source": [
    "Credito.head()"
   ]
  },
  {
   "cell_type": "code",
   "execution_count": 121,
   "metadata": {},
   "outputs": [
    {
     "data": {
      "text/plain": [
       "['CHEQUEESPECIAL',\n",
       " 'HISTORICO_CREDITO',\n",
       " 'PROPOSITO',\n",
       " 'BALANCO_MEDIO_CREDITO',\n",
       " 'EMPREGO',\n",
       " 'TRABAESTRANGEIRO',\n",
       " 'RESIDENCIA',\n",
       " 'OUTROSPLANOSPGTO',\n",
       " 'TIPOSBENS',\n",
       " 'OUTRASFUNCOES',\n",
       " 'ESTADOCIVIL',\n",
       " 'EMPREGADO',\n",
       " 'CLASSE']"
      ]
     },
     "execution_count": 121,
     "metadata": {},
     "output_type": "execute_result"
    }
   ],
   "source": [
    "labels_dummys = ['CHEQUEESPECIAL','HISTORICO_CREDITO','PROPOSITO','BALANCO_MEDIO_CREDITO','EMPREGO','TRABAESTRANGEIRO','RESIDENCIA','OUTROSPLANOSPGTO','TIPOSBENS','OUTRASFUNCOES','ESTADOCIVIL','EMPREGADO','CLASSE']\n",
    "labels_dummys"
   ]
  },
  {
   "cell_type": "code",
   "execution_count": 122,
   "metadata": {},
   "outputs": [
    {
     "data": {
      "text/html": [
       "<div>\n",
       "<style scoped>\n",
       "    .dataframe tbody tr th:only-of-type {\n",
       "        vertical-align: middle;\n",
       "    }\n",
       "\n",
       "    .dataframe tbody tr th {\n",
       "        vertical-align: top;\n",
       "    }\n",
       "\n",
       "    .dataframe thead th {\n",
       "        text-align: right;\n",
       "    }\n",
       "</style>\n",
       "<table border=\"1\" class=\"dataframe\">\n",
       "  <thead>\n",
       "    <tr style=\"text-align: right;\">\n",
       "      <th></th>\n",
       "      <th>&lt;0</th>\n",
       "      <th>&gt;=200</th>\n",
       "      <th>sem cheque</th>\n",
       "    </tr>\n",
       "  </thead>\n",
       "  <tbody>\n",
       "    <tr>\n",
       "      <th>0&lt;=X&lt;200</th>\n",
       "      <td>0.0</td>\n",
       "      <td>0.0</td>\n",
       "      <td>0.0</td>\n",
       "    </tr>\n",
       "    <tr>\n",
       "      <th>&lt;0</th>\n",
       "      <td>1.0</td>\n",
       "      <td>0.0</td>\n",
       "      <td>0.0</td>\n",
       "    </tr>\n",
       "    <tr>\n",
       "      <th>&gt;=200</th>\n",
       "      <td>0.0</td>\n",
       "      <td>1.0</td>\n",
       "      <td>0.0</td>\n",
       "    </tr>\n",
       "    <tr>\n",
       "      <th>sem cheque</th>\n",
       "      <td>0.0</td>\n",
       "      <td>0.0</td>\n",
       "      <td>1.0</td>\n",
       "    </tr>\n",
       "  </tbody>\n",
       "</table>\n",
       "</div>"
      ],
      "text/plain": [
       "             <0  >=200  sem cheque\n",
       "0<=X<200    0.0    0.0         0.0\n",
       "<0          1.0    0.0         0.0\n",
       ">=200       0.0    1.0         0.0\n",
       "sem cheque  0.0    0.0         1.0"
      ]
     },
     "execution_count": 122,
     "metadata": {},
     "output_type": "execute_result"
    }
   ],
   "source": [
    "def dummyficando(dataFrame,label):\n",
    "    Dummy = dataFrame.loc[:,[label]].groupby(label).count()\n",
    "    tamanho = len(Dummy)\n",
    "    colunas = Dummy.index.values\n",
    "    Dummy[1] = range(0,tamanho)\n",
    "    enc = OneHotEncoder(categories='auto')\n",
    "    enc.fit(Dummy)\n",
    "    dummy_fic = enc.transform(Dummy).toarray()\n",
    "    dummy_fic\n",
    "    dum2 = pd.DataFrame(dummy_fic[:,1:],index=colunas.reshape(tamanho),columns=colunas[1:])    \n",
    "    return dum2\n",
    "\n",
    "dummyficando(Credito,'CHEQUEESPECIAL')"
   ]
  },
  {
   "cell_type": "code",
   "execution_count": 126,
   "metadata": {},
   "outputs": [
    {
     "name": "stdout",
     "output_type": "stream",
     "text": [
      "CHEQUEESPECIAL\n",
      "HISTORICO_CREDITO\n",
      "PROPOSITO\n",
      "BALANCO_MEDIO_CREDITO\n",
      "EMPREGO\n",
      "TRABAESTRANGEIRO\n",
      "RESIDENCIA\n",
      "OUTROSPLANOSPGTO\n",
      "TIPOSBENS\n",
      "OUTRASFUNCOES\n",
      "ESTADOCIVIL\n",
      "EMPREGADO\n",
      "CLASSE\n"
     ]
    }
   ],
   "source": [
    "labels_dummys = ['CHEQUEESPECIAL','HISTORICO_CREDITO','PROPOSITO','BALANCO_MEDIO_CREDITO','EMPREGO','TRABAESTRANGEIRO','RESIDENCIA','OUTROSPLANOSPGTO','TIPOSBENS','OUTRASFUNCOES','ESTADOCIVIL','EMPREGADO','CLASSE']\n",
    "for i in range(0,len(labels_dummys)):\n",
    "    print(labels_dummys[i])\n",
    "    Credito = Credito.join(dummyficando(Credito,labels_dummys[i]),on=labels_dummys[i],lsuffix='_',rsuffix='_-'+labels_dummys[i]+'-')\n",
    "    Credito.drop(labels_dummys[i],inplace=True,axis=1)"
   ]
  },
  {
   "cell_type": "code",
   "execution_count": 127,
   "metadata": {},
   "outputs": [
    {
     "data": {
      "text/plain": [
       "Index(['USO_CREDITO', 'BALANCO_ATUAL', 'LOCAL', 'RESIDENCIADESDE', 'IDADE',\n",
       "       'CREDITOSEXISTENTES', 'DEPENDENTES', '<0', '>=200', 'sem cheque',\n",
       "       'crítica / outros de crédito existente', 'existente e pago',\n",
       "       'sem créditos/todos pagos', 'todos pagos', 'Eletrodomésticos',\n",
       "       'carro novo', 'carro usado', 'educação', 'mobilia/equipamento',\n",
       "       'negócios', 'obras', 'outros', 'qualificação', '500<=X<1000', '<100',\n",
       "       '>=1000', 'nenhuma economia conhecida', 'especializado',\n",
       "       'não especializado', 'unemp/unespecializado non res', 'sim',\n",
       "       'gratuitamente', 'própria', 'nenhum_', 'stores', 'carro',\n",
       "       'nenhuma conhecida', 'seguro de vida', 'fiador',\n",
       "       'nenhum_-OUTRASFUNCOES-', 'masculino casado/viuvo', 'masculino div/sep',\n",
       "       'masculino solteiro', '4<=X<7', '<1', '>=7', 'desempregado', 'ruim'],\n",
       "      dtype='object')"
      ]
     },
     "execution_count": 127,
     "metadata": {},
     "output_type": "execute_result"
    }
   ],
   "source": [
    "Credito.columns"
   ]
  },
  {
   "cell_type": "code",
   "execution_count": 108,
   "metadata": {},
   "outputs": [],
   "source": []
  },
  {
   "cell_type": "code",
   "execution_count": 110,
   "metadata": {},
   "outputs": [],
   "source": [
    "lm = LogisticRegression()"
   ]
  },
  {
   "cell_type": "code",
   "execution_count": 112,
   "metadata": {},
   "outputs": [
    {
     "data": {
      "text/html": [
       "<div>\n",
       "<style scoped>\n",
       "    .dataframe tbody tr th:only-of-type {\n",
       "        vertical-align: middle;\n",
       "    }\n",
       "\n",
       "    .dataframe tbody tr th {\n",
       "        vertical-align: top;\n",
       "    }\n",
       "\n",
       "    .dataframe thead th {\n",
       "        text-align: right;\n",
       "    }\n",
       "</style>\n",
       "<table border=\"1\" class=\"dataframe\">\n",
       "  <thead>\n",
       "    <tr style=\"text-align: right;\">\n",
       "      <th></th>\n",
       "      <th>ruim</th>\n",
       "    </tr>\n",
       "  </thead>\n",
       "  <tbody>\n",
       "    <tr>\n",
       "      <th>bom</th>\n",
       "      <td>0.0</td>\n",
       "    </tr>\n",
       "    <tr>\n",
       "      <th>ruim</th>\n",
       "      <td>1.0</td>\n",
       "    </tr>\n",
       "  </tbody>\n",
       "</table>\n",
       "</div>"
      ],
      "text/plain": [
       "      ruim\n",
       "bom    0.0\n",
       "ruim   1.0"
      ]
     },
     "execution_count": 112,
     "metadata": {},
     "output_type": "execute_result"
    }
   ],
   "source": [
    "dummyficando(Credito,)"
   ]
  },
  {
   "cell_type": "code",
   "execution_count": null,
   "metadata": {},
   "outputs": [],
   "source": [
    "lm.fit(Credito)"
   ]
  }
 ],
 "metadata": {
  "kernelspec": {
   "display_name": "Python 3",
   "language": "python",
   "name": "python3"
  },
  "language_info": {
   "codemirror_mode": {
    "name": "ipython",
    "version": 3
   },
   "file_extension": ".py",
   "mimetype": "text/x-python",
   "name": "python",
   "nbconvert_exporter": "python",
   "pygments_lexer": "ipython3",
   "version": "3.7.3"
  }
 },
 "nbformat": 4,
 "nbformat_minor": 4
}
