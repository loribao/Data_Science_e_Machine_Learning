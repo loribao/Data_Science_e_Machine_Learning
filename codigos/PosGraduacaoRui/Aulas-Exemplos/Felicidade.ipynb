{
 "cells": [
  {
   "cell_type": "markdown",
   "metadata": {},
   "source": [
    "[Dataset_Felicidade](https://www.kaggle.com/unsdsn/world-happiness#2016.csv)"
   ]
  },
  {
   "cell_type": "markdown",
   "metadata": {},
   "source": [
    "# Contexto"
   ]
  },
  {
   "cell_type": "markdown",
   "metadata": {},
   "source": [
    "O Relatório Mundial da Felicidade é uma pesquisa histórica sobre o estado da felicidade global. O primeiro relatório foi publicado em 2012, o segundo em 2013, o terceiro em 2015 e o quarto na atualização de 2016. O World Happiness 2017, que classifica 155 países por seus níveis de felicidade, foi lançado nas Nações Unidas em um evento comemorativo do Dia Internacional da Felicidade em 20 de março. O relatório continua a ganhar reconhecimento global à medida que governos, organizações e sociedade civil usam cada vez mais indicadores de felicidade para informar suas decisões de formulação de políticas. Os principais especialistas em vários campos - economia, psicologia, análise de pesquisas, estatísticas nacionais, saúde, políticas públicas e mais - descrevem como as medidas de bem-estar podem ser usadas com eficácia para avaliar o progresso das nações."
   ]
  },
  {
   "cell_type": "markdown",
   "metadata": {},
   "source": [
    "<b>Colunas</b> - Dados\n",
    "\n",
    "<b>País</b> - Nome do país.\n",
    "\n",
    "<b>Região</b> - Região à qual o país pertence.\n",
    "\n",
    "<b>Felicidade Rank</b>- Classificação do país com base no Índice de Felicidade.\n",
    "\n",
    "<b>Pontuação de Felicidade</b> -Uma métrica medida em 2016, perguntando às pessoas incluídas na \n",
    "Amostra da pergunta: \"Como você classificaria sua felicidade em uma escala de 0 a 10, onde 10 é a mais feliz\"?\n",
    "\n",
    "\n",
    "\n",
    "<b>Economia (PIB per capita)</b> - Até que ponto o PIB contribui para o cálculo do Índice de \n",
    "Felicidade.\n",
    "\n",
    "<b>Família</b> - Até que ponto a Família contribui para o cálculo do Índice de Felicidade.\n",
    "\n",
    "<b>Saúde</b> (Expectativa de Vida) - Em que medida a expectativa de vida contribuiu para o cálculo do escore de felicidade.\n",
    "\n",
    "<b>Liberdade</b> - Em que medida a liberdade contribuiu para o cálculo do Índice de Felicidade.\n",
    "\n",
    "<b>Confiança</b> - (corrupção do governo) - Até que ponto a Percepção de corrupção contribui para o Índice de Felicidade.\n",
    "\n",
    "<b>Generosidade</b> - Em que medida a generosidade contribuiu para o cálculo do escore de felicidade.\n",
    "\n",
    "<b>Distopia Residual</b> - Em que medida a Distopia Residual contribuiu para o cálculo do Índice de Felicidade.\n"
   ]
  },
  {
   "cell_type": "markdown",
   "metadata": {},
   "source": [
    "[DataSet_Suicidio](https://www.kaggle.com/szamil/who-suicide-statistics)"
   ]
  },
  {
   "cell_type": "markdown",
   "metadata": {},
   "source": [
    "# Processo Adaptado "
   ]
  },
  {
   "cell_type": "markdown",
   "metadata": {},
   "source": [
    "### Identificar: Nessa etapa identificamos a necessidade do negócio."
   ]
  },
  {
   "cell_type": "markdown",
   "metadata": {},
   "source": [
    "1 – Que tipo de decisões devem ser tomadas com esses dados?<br>\n",
    "R: Qual pais tem maior chance de crescimento para os próximos anos.\n",
    "\n",
    "2 – Podemos formular hipóteses sobre esses dados? Quais?<br>\n",
    "R: Qual é a região mais feliz? <br>\n",
    "Pais com maior crescimento em felicidade (derivada)<br>\n",
    "Pais com maior decrescimento em felicidade<br>\n",
    "\n",
    "\n",
    "\n",
    "3 – Quanto tempo temos para explorar?<br>\n",
    "R: 2015 ate 2017\n",
    "\n",
    "4 – Quais decisões o cliente pretende tomar com esses dados?<br>\n",
    "R: Qual pode ser o melhor lugar para se morar ou vender viagens<br> Melhor pais para se vender seguro de vida\n",
    "\n",
    "5 – Qual seria o resultado ideal?<br>\n",
    "R: Maior Felicidade\n",
    "\n",
    "6 – Como apresentar o resultado?<br>\n",
    "R: cruzando dados estatisticos."
   ]
  },
  {
   "cell_type": "markdown",
   "metadata": {},
   "source": [
    "### Entendimento: Ter um contato inicial com o conjunto de dados"
   ]
  },
  {
   "cell_type": "markdown",
   "metadata": {},
   "source": [
    "Tamanho dos dados? Linhas x colunas; Gb;..<br>\n",
    "R: (158, 12), (157, 13), (155, 12); Tamanho da soma dos arquivos 63KB \n",
    "    \n",
    "Quantos arquivos temos? <br>\n",
    "R: 3 referentes ao primeiro dataset (Felicidade)\n",
    "    \n",
    "Há quantas fontes de informação?<br>\n",
    "R: 1 dataSet com 3 arquivos\n",
    "    \n",
    "Os dados de diferentes fontes tem formatação/tipagem igual?<br>\n",
    "R: Uma fonte \n",
    "\n",
    "Necessita de limpeza?<br>\n",
    "R: Sim\n",
    "    \n",
    "O que os campos (variáveis) significam?<br>\n",
    "R: \n",
    "    \n",
    "Há outliers?<br>\n",
    "R:\n",
    "    \n",
    "Há dados nulos?<br>\n",
    "R: Nao tem.\n",
    "    "
   ]
  },
  {
   "cell_type": "code",
   "execution_count": null,
   "metadata": {},
   "outputs": [],
   "source": []
  }
 ],
 "metadata": {
  "kernelspec": {
   "display_name": "Python 3",
   "language": "python",
   "name": "python3"
  },
  "language_info": {
   "codemirror_mode": {
    "name": "ipython",
    "version": 3
   },
   "file_extension": ".py",
   "mimetype": "text/x-python",
   "name": "python",
   "nbconvert_exporter": "python",
   "pygments_lexer": "ipython3",
   "version": "3.6.9"
  }
 },
 "nbformat": 4,
 "nbformat_minor": 2
}
