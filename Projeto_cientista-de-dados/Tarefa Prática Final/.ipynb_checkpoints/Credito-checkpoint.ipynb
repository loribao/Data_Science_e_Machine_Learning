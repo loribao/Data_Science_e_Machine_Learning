{
 "cells": [
  {
   "cell_type": "markdown",
   "metadata": {},
   "source": [
    "## \"Nossa taxa de inadimplência é de 35%. \n",
    "## Você acha que com o uso das suas técnicas, conseguimos baixar este índice para pelo menos, 25%?\"\n",
    "\n",
    "Crie um modelos de machine learning e tente chegar a um índice de inadimplência aproximado, de 25%. Você pode fazer em R ou Python. Descreva algoritmos e técnicas utilizadas, bem como o índice alcançado."
   ]
  },
  {
   "cell_type": "code",
   "execution_count": 72,
   "metadata": {},
   "outputs": [],
   "source": [
    "import numpy as np\n",
    "import pandas as pd\n",
    "import seaborn as sbs\n",
    "from sklearn.preprocessing import OneHotEncoder\n",
    "from sklearn.preprocessing import LabelEncoder\n",
    "from sklearn.model_selection import train_test_split\n",
    "####\n",
    "from sklearn.svm import SVC\n",
    "from sklearn.tree import DecisionTreeClassifier\n",
    "from sklearn.ensemble import RandomForestClassifier\n",
    "from sklearn.model_selection import GridSearchCV\n",
    "from sklearn.cluster import KMeans\n",
    "from sklearn.linear_model import LogisticRegression\n",
    "from sklearn.naive_bayes import GaussianNB\n",
    "from sklearn.metrics import confusion_matrix, accuracy_score\n",
    "from sklearn.linear_model import LinearRegression #\n",
    "\n"
   ]
  },
  {
   "cell_type": "code",
   "execution_count": 73,
   "metadata": {},
   "outputs": [
    {
     "ename": "KeyError",
     "evalue": "'Numero_do_teste'",
     "output_type": "error",
     "traceback": [
      "\u001b[0;31m---------------------------------------------------------------------------\u001b[0m",
      "\u001b[0;31mTypeError\u001b[0m                                 Traceback (most recent call last)",
      "\u001b[0;32mpandas/_libs/index.pyx\u001b[0m in \u001b[0;36mpandas._libs.index.IndexEngine.get_loc\u001b[0;34m()\u001b[0m\n",
      "\u001b[0;32mpandas/_libs/hashtable_class_helper.pxi\u001b[0m in \u001b[0;36mpandas._libs.hashtable.Float64HashTable.get_item\u001b[0;34m()\u001b[0m\n",
      "\u001b[0;31mTypeError\u001b[0m: must be real number, not str",
      "\nDuring handling of the above exception, another exception occurred:\n",
      "\u001b[0;31mKeyError\u001b[0m                                  Traceback (most recent call last)",
      "\u001b[0;32m~/anaconda3/lib/python3.7/site-packages/pandas/core/indexes/base.py\u001b[0m in \u001b[0;36mget_loc\u001b[0;34m(self, key, method, tolerance)\u001b[0m\n\u001b[1;32m   2656\u001b[0m             \u001b[0;32mtry\u001b[0m\u001b[0;34m:\u001b[0m\u001b[0;34m\u001b[0m\u001b[0;34m\u001b[0m\u001b[0m\n\u001b[0;32m-> 2657\u001b[0;31m                 \u001b[0;32mreturn\u001b[0m \u001b[0mself\u001b[0m\u001b[0;34m.\u001b[0m\u001b[0m_engine\u001b[0m\u001b[0;34m.\u001b[0m\u001b[0mget_loc\u001b[0m\u001b[0;34m(\u001b[0m\u001b[0mkey\u001b[0m\u001b[0;34m)\u001b[0m\u001b[0;34m\u001b[0m\u001b[0;34m\u001b[0m\u001b[0m\n\u001b[0m\u001b[1;32m   2658\u001b[0m             \u001b[0;32mexcept\u001b[0m \u001b[0mKeyError\u001b[0m\u001b[0;34m:\u001b[0m\u001b[0;34m\u001b[0m\u001b[0;34m\u001b[0m\u001b[0m\n",
      "\u001b[0;32mpandas/_libs/index.pyx\u001b[0m in \u001b[0;36mpandas._libs.index.IndexEngine.get_loc\u001b[0;34m()\u001b[0m\n",
      "\u001b[0;32mpandas/_libs/index.pyx\u001b[0m in \u001b[0;36mpandas._libs.index.IndexEngine.get_loc\u001b[0;34m()\u001b[0m\n",
      "\u001b[0;31mKeyError\u001b[0m: 'Numero_do_teste'",
      "\nDuring handling of the above exception, another exception occurred:\n",
      "\u001b[0;31mTypeError\u001b[0m                                 Traceback (most recent call last)",
      "\u001b[0;32mpandas/_libs/index.pyx\u001b[0m in \u001b[0;36mpandas._libs.index.IndexEngine.get_loc\u001b[0;34m()\u001b[0m\n",
      "\u001b[0;32mpandas/_libs/hashtable_class_helper.pxi\u001b[0m in \u001b[0;36mpandas._libs.hashtable.Float64HashTable.get_item\u001b[0;34m()\u001b[0m\n",
      "\u001b[0;31mTypeError\u001b[0m: must be real number, not str",
      "\nDuring handling of the above exception, another exception occurred:\n",
      "\u001b[0;31mKeyError\u001b[0m                                  Traceback (most recent call last)",
      "\u001b[0;32m<ipython-input-73-19ae8ecedaba>\u001b[0m in \u001b[0;36m<module>\u001b[0;34m\u001b[0m\n\u001b[1;32m      1\u001b[0m \u001b[0mRelatorio\u001b[0m \u001b[0;34m=\u001b[0m \u001b[0mpd\u001b[0m\u001b[0;34m.\u001b[0m\u001b[0mread_json\u001b[0m\u001b[0;34m(\u001b[0m\u001b[0;34m'./relatorios/relatorio.json'\u001b[0m\u001b[0;34m)\u001b[0m\u001b[0;34m\u001b[0m\u001b[0;34m\u001b[0m\u001b[0m\n\u001b[0;32m----> 2\u001b[0;31m \u001b[0mNumero_do_teste\u001b[0m \u001b[0;34m=\u001b[0m \u001b[0mRelatorio\u001b[0m\u001b[0;34m[\u001b[0m\u001b[0;34m'Numero_do_teste'\u001b[0m\u001b[0;34m]\u001b[0m\u001b[0;34m\u001b[0m\u001b[0;34m\u001b[0m\u001b[0m\n\u001b[0m",
      "\u001b[0;32m~/anaconda3/lib/python3.7/site-packages/pandas/core/frame.py\u001b[0m in \u001b[0;36m__getitem__\u001b[0;34m(self, key)\u001b[0m\n\u001b[1;32m   2925\u001b[0m             \u001b[0;32mif\u001b[0m \u001b[0mself\u001b[0m\u001b[0;34m.\u001b[0m\u001b[0mcolumns\u001b[0m\u001b[0;34m.\u001b[0m\u001b[0mnlevels\u001b[0m \u001b[0;34m>\u001b[0m \u001b[0;36m1\u001b[0m\u001b[0;34m:\u001b[0m\u001b[0;34m\u001b[0m\u001b[0;34m\u001b[0m\u001b[0m\n\u001b[1;32m   2926\u001b[0m                 \u001b[0;32mreturn\u001b[0m \u001b[0mself\u001b[0m\u001b[0;34m.\u001b[0m\u001b[0m_getitem_multilevel\u001b[0m\u001b[0;34m(\u001b[0m\u001b[0mkey\u001b[0m\u001b[0;34m)\u001b[0m\u001b[0;34m\u001b[0m\u001b[0;34m\u001b[0m\u001b[0m\n\u001b[0;32m-> 2927\u001b[0;31m             \u001b[0mindexer\u001b[0m \u001b[0;34m=\u001b[0m \u001b[0mself\u001b[0m\u001b[0;34m.\u001b[0m\u001b[0mcolumns\u001b[0m\u001b[0;34m.\u001b[0m\u001b[0mget_loc\u001b[0m\u001b[0;34m(\u001b[0m\u001b[0mkey\u001b[0m\u001b[0;34m)\u001b[0m\u001b[0;34m\u001b[0m\u001b[0;34m\u001b[0m\u001b[0m\n\u001b[0m\u001b[1;32m   2928\u001b[0m             \u001b[0;32mif\u001b[0m \u001b[0mis_integer\u001b[0m\u001b[0;34m(\u001b[0m\u001b[0mindexer\u001b[0m\u001b[0;34m)\u001b[0m\u001b[0;34m:\u001b[0m\u001b[0;34m\u001b[0m\u001b[0;34m\u001b[0m\u001b[0m\n\u001b[1;32m   2929\u001b[0m                 \u001b[0mindexer\u001b[0m \u001b[0;34m=\u001b[0m \u001b[0;34m[\u001b[0m\u001b[0mindexer\u001b[0m\u001b[0;34m]\u001b[0m\u001b[0;34m\u001b[0m\u001b[0;34m\u001b[0m\u001b[0m\n",
      "\u001b[0;32m~/anaconda3/lib/python3.7/site-packages/pandas/core/indexes/numeric.py\u001b[0m in \u001b[0;36mget_loc\u001b[0;34m(self, key, method, tolerance)\u001b[0m\n\u001b[1;32m    434\u001b[0m             \u001b[0;32mpass\u001b[0m\u001b[0;34m\u001b[0m\u001b[0;34m\u001b[0m\u001b[0m\n\u001b[1;32m    435\u001b[0m         return super(Float64Index, self).get_loc(key, method=method,\n\u001b[0;32m--> 436\u001b[0;31m                                                  tolerance=tolerance)\n\u001b[0m\u001b[1;32m    437\u001b[0m \u001b[0;34m\u001b[0m\u001b[0m\n\u001b[1;32m    438\u001b[0m     \u001b[0;34m@\u001b[0m\u001b[0mcache_readonly\u001b[0m\u001b[0;34m\u001b[0m\u001b[0;34m\u001b[0m\u001b[0m\n",
      "\u001b[0;32m~/anaconda3/lib/python3.7/site-packages/pandas/core/indexes/base.py\u001b[0m in \u001b[0;36mget_loc\u001b[0;34m(self, key, method, tolerance)\u001b[0m\n\u001b[1;32m   2657\u001b[0m                 \u001b[0;32mreturn\u001b[0m \u001b[0mself\u001b[0m\u001b[0;34m.\u001b[0m\u001b[0m_engine\u001b[0m\u001b[0;34m.\u001b[0m\u001b[0mget_loc\u001b[0m\u001b[0;34m(\u001b[0m\u001b[0mkey\u001b[0m\u001b[0;34m)\u001b[0m\u001b[0;34m\u001b[0m\u001b[0;34m\u001b[0m\u001b[0m\n\u001b[1;32m   2658\u001b[0m             \u001b[0;32mexcept\u001b[0m \u001b[0mKeyError\u001b[0m\u001b[0;34m:\u001b[0m\u001b[0;34m\u001b[0m\u001b[0;34m\u001b[0m\u001b[0m\n\u001b[0;32m-> 2659\u001b[0;31m                 \u001b[0;32mreturn\u001b[0m \u001b[0mself\u001b[0m\u001b[0;34m.\u001b[0m\u001b[0m_engine\u001b[0m\u001b[0;34m.\u001b[0m\u001b[0mget_loc\u001b[0m\u001b[0;34m(\u001b[0m\u001b[0mself\u001b[0m\u001b[0;34m.\u001b[0m\u001b[0m_maybe_cast_indexer\u001b[0m\u001b[0;34m(\u001b[0m\u001b[0mkey\u001b[0m\u001b[0;34m)\u001b[0m\u001b[0;34m)\u001b[0m\u001b[0;34m\u001b[0m\u001b[0;34m\u001b[0m\u001b[0m\n\u001b[0m\u001b[1;32m   2660\u001b[0m         \u001b[0mindexer\u001b[0m \u001b[0;34m=\u001b[0m \u001b[0mself\u001b[0m\u001b[0;34m.\u001b[0m\u001b[0mget_indexer\u001b[0m\u001b[0;34m(\u001b[0m\u001b[0;34m[\u001b[0m\u001b[0mkey\u001b[0m\u001b[0;34m]\u001b[0m\u001b[0;34m,\u001b[0m \u001b[0mmethod\u001b[0m\u001b[0;34m=\u001b[0m\u001b[0mmethod\u001b[0m\u001b[0;34m,\u001b[0m \u001b[0mtolerance\u001b[0m\u001b[0;34m=\u001b[0m\u001b[0mtolerance\u001b[0m\u001b[0;34m)\u001b[0m\u001b[0;34m\u001b[0m\u001b[0;34m\u001b[0m\u001b[0m\n\u001b[1;32m   2661\u001b[0m         \u001b[0;32mif\u001b[0m \u001b[0mindexer\u001b[0m\u001b[0;34m.\u001b[0m\u001b[0mndim\u001b[0m \u001b[0;34m>\u001b[0m \u001b[0;36m1\u001b[0m \u001b[0;32mor\u001b[0m \u001b[0mindexer\u001b[0m\u001b[0;34m.\u001b[0m\u001b[0msize\u001b[0m \u001b[0;34m>\u001b[0m \u001b[0;36m1\u001b[0m\u001b[0;34m:\u001b[0m\u001b[0;34m\u001b[0m\u001b[0;34m\u001b[0m\u001b[0m\n",
      "\u001b[0;32mpandas/_libs/index.pyx\u001b[0m in \u001b[0;36mpandas._libs.index.IndexEngine.get_loc\u001b[0;34m()\u001b[0m\n",
      "\u001b[0;32mpandas/_libs/index.pyx\u001b[0m in \u001b[0;36mpandas._libs.index.IndexEngine.get_loc\u001b[0;34m()\u001b[0m\n",
      "\u001b[0;31mKeyError\u001b[0m: 'Numero_do_teste'"
     ]
    }
   ],
   "source": [
    "Relatorio = pd.read_json('./relatorios/relatorio.json')\n",
    "Numero_do_teste = Relatorio['Numero_do_teste']"
   ]
  },
  {
   "cell_type": "markdown",
   "metadata": {},
   "source": []
  },
  {
   "cell_type": "code",
   "execution_count": null,
   "metadata": {},
   "outputs": [],
   "source": [
    "Bkp = pd.read_csv('./dados/Credito.csv',encoding=\"ISO-8859-1\",sep=';')\n",
    "Credito = Bkp"
   ]
  },
  {
   "cell_type": "code",
   "execution_count": 74,
   "metadata": {},
   "outputs": [
    {
     "data": {
      "text/plain": [
       "0     6\n",
       "1    48\n",
       "2    12\n",
       "3    42\n",
       "4    24\n",
       "Name: USO_CREDITO, dtype: int64"
      ]
     },
     "execution_count": 74,
     "metadata": {},
     "output_type": "execute_result"
    }
   ],
   "source": [
    "Bkp['USO_CREDITO'].head()"
   ]
  },
  {
   "cell_type": "code",
   "execution_count": 75,
   "metadata": {},
   "outputs": [],
   "source": [
    "#['CHEQUEESPECIAL', 'HISTORICO_CREDITO', 'PROPOSITO','BALANCO_MEDIO_CREDITO', 'EMPREGADO', 'LOCAL','ESTADOCIVIL', 'OUTRASFUNCOES', 'RESIDENCIADESDE', 'TIPOSBENS','OUTROSPLANOSPGTO', 'RESIDENCIA', 'CREDITOSEXISTENTES','EMPREGO', 'TRABAESTRANGEIRO', 'CLASSE']\n",
    "#Bkp.columns.values"
   ]
  },
  {
   "cell_type": "code",
   "execution_count": 76,
   "metadata": {},
   "outputs": [
    {
     "data": {
      "text/plain": [
       "<matplotlib.axes._subplots.AxesSubplot at 0x7ff76376be48>"
      ]
     },
     "execution_count": 76,
     "metadata": {},
     "output_type": "execute_result"
    },
    {
     "data": {
      "image/png": "[encoded data removed]",
      "text/plain": [
       "<Figure size 432x288 with 1 Axes>"
      ]
     },
     "metadata": {
      "needs_background": "light"
     },
     "output_type": "display_data"
    }
   ],
   "source": [
    "sbs.heatmap(Bkp.isnull(),cmap='viridis',cbar=False)\n",
    "#nenum dado faltante"
   ]
  },
  {
   "cell_type": "code",
   "execution_count": 77,
   "metadata": {},
   "outputs": [
    {
     "data": {
      "text/html": [
       "<div>\n",
       "<style scoped>\n",
       "    .dataframe tbody tr th:only-of-type {\n",
       "        vertical-align: middle;\n",
       "    }\n",
       "\n",
       "    .dataframe tbody tr th {\n",
       "        vertical-align: top;\n",
       "    }\n",
       "\n",
       "    .dataframe thead th {\n",
       "        text-align: right;\n",
       "    }\n",
       "</style>\n",
       "<table border=\"1\" class=\"dataframe\">\n",
       "  <thead>\n",
       "    <tr style=\"text-align: right;\">\n",
       "      <th></th>\n",
       "      <th>CHEQUEESPECIAL</th>\n",
       "      <th>USO_CREDITO</th>\n",
       "      <th>HISTORICO_CREDITO</th>\n",
       "      <th>PROPOSITO</th>\n",
       "      <th>BALANCO_ATUAL</th>\n",
       "      <th>BALANCO_MEDIO_CREDITO</th>\n",
       "      <th>EMPREGADO</th>\n",
       "      <th>LOCAL</th>\n",
       "      <th>ESTADOCIVIL</th>\n",
       "      <th>OUTRASFUNCOES</th>\n",
       "      <th>RESIDENCIADESDE</th>\n",
       "      <th>TIPOSBENS</th>\n",
       "      <th>IDADE</th>\n",
       "      <th>OUTROSPLANOSPGTO</th>\n",
       "      <th>RESIDENCIA</th>\n",
       "      <th>CREDITOSEXISTENTES</th>\n",
       "      <th>EMPREGO</th>\n",
       "      <th>DEPENDENTES</th>\n",
       "      <th>TRABAESTRANGEIRO</th>\n",
       "    </tr>\n",
       "    <tr>\n",
       "      <th>CLASSE</th>\n",
       "      <th></th>\n",
       "      <th></th>\n",
       "      <th></th>\n",
       "      <th></th>\n",
       "      <th></th>\n",
       "      <th></th>\n",
       "      <th></th>\n",
       "      <th></th>\n",
       "      <th></th>\n",
       "      <th></th>\n",
       "      <th></th>\n",
       "      <th></th>\n",
       "      <th></th>\n",
       "      <th></th>\n",
       "      <th></th>\n",
       "      <th></th>\n",
       "      <th></th>\n",
       "      <th></th>\n",
       "      <th></th>\n",
       "    </tr>\n",
       "  </thead>\n",
       "  <tbody>\n",
       "    <tr>\n",
       "      <th>0</th>\n",
       "      <td>700</td>\n",
       "      <td>700</td>\n",
       "      <td>700</td>\n",
       "      <td>700</td>\n",
       "      <td>700</td>\n",
       "      <td>700</td>\n",
       "      <td>700</td>\n",
       "      <td>700</td>\n",
       "      <td>700</td>\n",
       "      <td>700</td>\n",
       "      <td>700</td>\n",
       "      <td>700</td>\n",
       "      <td>700</td>\n",
       "      <td>700</td>\n",
       "      <td>700</td>\n",
       "      <td>700</td>\n",
       "      <td>700</td>\n",
       "      <td>700</td>\n",
       "      <td>700</td>\n",
       "    </tr>\n",
       "    <tr>\n",
       "      <th>1</th>\n",
       "      <td>300</td>\n",
       "      <td>300</td>\n",
       "      <td>300</td>\n",
       "      <td>300</td>\n",
       "      <td>300</td>\n",
       "      <td>300</td>\n",
       "      <td>300</td>\n",
       "      <td>300</td>\n",
       "      <td>300</td>\n",
       "      <td>300</td>\n",
       "      <td>300</td>\n",
       "      <td>300</td>\n",
       "      <td>300</td>\n",
       "      <td>300</td>\n",
       "      <td>300</td>\n",
       "      <td>300</td>\n",
       "      <td>300</td>\n",
       "      <td>300</td>\n",
       "      <td>300</td>\n",
       "    </tr>\n",
       "  </tbody>\n",
       "</table>\n",
       "</div>"
      ],
      "text/plain": [
       "        CHEQUEESPECIAL  USO_CREDITO  HISTORICO_CREDITO  PROPOSITO  \\\n",
       "CLASSE                                                              \n",
       "0                  700          700                700        700   \n",
       "1                  300          300                300        300   \n",
       "\n",
       "        BALANCO_ATUAL  BALANCO_MEDIO_CREDITO  EMPREGADO  LOCAL  ESTADOCIVIL  \\\n",
       "CLASSE                                                                        \n",
       "0                 700                    700        700    700          700   \n",
       "1                 300                    300        300    300          300   \n",
       "\n",
       "        OUTRASFUNCOES  RESIDENCIADESDE  TIPOSBENS  IDADE  OUTROSPLANOSPGTO  \\\n",
       "CLASSE                                                                       \n",
       "0                 700              700        700    700               700   \n",
       "1                 300              300        300    300               300   \n",
       "\n",
       "        RESIDENCIA  CREDITOSEXISTENTES  EMPREGO  DEPENDENTES  TRABAESTRANGEIRO  \n",
       "CLASSE                                                                          \n",
       "0              700                 700      700          700               700  \n",
       "1              300                 300      300          300               300  "
      ]
     },
     "execution_count": 77,
     "metadata": {},
     "output_type": "execute_result"
    }
   ],
   "source": [
    "Bkp.groupby('CLASSE').count()"
   ]
  },
  {
   "cell_type": "markdown",
   "metadata": {},
   "source": [
    "## Pre processamencount"
   ]
  },
  {
   "cell_type": "markdown",
   "metadata": {},
   "source": [
    "## Dummys"
   ]
  },
  {
   "cell_type": "code",
   "execution_count": 78,
   "metadata": {},
   "outputs": [],
   "source": [
    "#Label_ENCODE\n",
    "labelencoder = LabelEncoder()\n",
    "Credito.iloc[:, 0] = labelencoder.fit_transform(Credito.iloc[:, 0])\n",
    "Credito.iloc[:, 2] = labelencoder.fit_transform(Credito.iloc[:, 2])\n",
    "Credito.iloc[:, 3] = labelencoder.fit_transform(Credito.iloc[:, 3])\n",
    "Credito.iloc[:, 5] = labelencoder.fit_transform(Credito.iloc[:, 5])\n",
    "Credito.iloc[:, 6] = labelencoder.fit_transform(Credito.iloc[:, 6])\n",
    "Credito.iloc[:, 8] = labelencoder.fit_transform(Credito.iloc[:, 8])\n",
    "Credito.iloc[:, 9] = labelencoder.fit_transform(Credito.iloc[:, 9])\n",
    "Credito.iloc[:, 11] = labelencoder.fit_transform(Credito.iloc[:, 11])\n",
    "Credito.iloc[:, 13] = labelencoder.fit_transform(Credito.iloc[:, 13])\n",
    "Credito.iloc[:, 14] = labelencoder.fit_transform(Credito.iloc[:, 14])\n",
    "Credito.iloc[:, 16] = labelencoder.fit_transform(Credito.iloc[:, 16])\n",
    "Credito.iloc[:, 18] = labelencoder.fit_transform(Credito.iloc[:, 18])\n",
    "Credito.iloc[:,19] = labelencoder.fit_transform(Credito.iloc[:, 19])\n",
    "Credito.iloc[:,19] = labelencoder.fit_transform(Credito.iloc[:, 19])"
   ]
  },
  {
   "cell_type": "code",
   "execution_count": 79,
   "metadata": {},
   "outputs": [],
   "source": [
    "def dummyficando(dataFrame,label):\n",
    "    Dummy = dataFrame.loc[:,[label]].groupby(label).count()\n",
    "    tamanho = len(Dummy)\n",
    "    colunas = Dummy.index.values\n",
    "    Dummy[1] = range(0,tamanho)\n",
    "    enc = OneHotEncoder(categories='auto')\n",
    "    enc.fit(Dummy)\n",
    "    dummy_fic = enc.transform(Dummy).toarray()\n",
    "    dummy_fic\n",
    "    dum2 = pd.DataFrame(dummy_fic[:,1:],index=colunas.reshape(tamanho),columns=colunas[1:])    \n",
    "    return dum2"
   ]
  },
  {
   "cell_type": "code",
   "execution_count": 80,
   "metadata": {},
   "outputs": [],
   "source": [
    "def preparar_teste(Dtf_to_Dummy,labels_to_dummys,labels_to_delete,y_label):\n",
    "    labelencoder = LabelEncoder()\n",
    "    Dtf_to_Dummy = Dtf_to_Dummy.drop(labels_to_delete,axis=1)\n",
    "    if int == type(y_label):\n",
    "        Credito.iloc[:,[0]]=1\n",
    "        Dtf_to_Dummy.iloc[:,[y_label]] = labelencoder.fit_transform(Dtf_to_Dummy.iloc[:,[y_label]])\n",
    "    else:\n",
    "        Dtf_to_Dummy[y_label] = labelencoder.fit_transform(Dtf_to_Dummy[y_label])\n",
    "    \n",
    "#    print('\\n-------Labels Dummyficadas:\\n----------')\n",
    "    for i in range(0,len(labels_to_dummys)):\n",
    "        \n",
    "        Dtf_to_Dummy = Dtf_to_Dummy.join(dummyficando(Dtf_to_Dummy,labels_to_dummys[i]),on=labels_to_dummys[i],lsuffix='_'+labels_to_dummys[i],rsuffix='_-'+labels_to_dummys[i]+'-')\n",
    "        Dtf_to_Dummy.drop(labels_to_dummys[i],inplace=True,axis=1)\n",
    "#        print(labels_to_dummys[i])\n",
    "#    print('\\n--------Labels Excluidas:\\n----------')\n",
    "#    print(labels_excuir)\n",
    "    return Dtf_to_Dummy"
   ]
  },
  {
   "cell_type": "code",
   "execution_count": 81,
   "metadata": {},
   "outputs": [
    {
     "data": {
      "text/html": [
       "<div>\n",
       "<style scoped>\n",
       "    .dataframe tbody tr th:only-of-type {\n",
       "        vertical-align: middle;\n",
       "    }\n",
       "\n",
       "    .dataframe tbody tr th {\n",
       "        vertical-align: top;\n",
       "    }\n",
       "\n",
       "    .dataframe thead th {\n",
       "        text-align: right;\n",
       "    }\n",
       "</style>\n",
       "<table border=\"1\" class=\"dataframe\">\n",
       "  <thead>\n",
       "    <tr style=\"text-align: right;\">\n",
       "      <th></th>\n",
       "      <th>CHEQUEESPECIAL</th>\n",
       "      <th>USO_CREDITO</th>\n",
       "      <th>HISTORICO_CREDITO</th>\n",
       "      <th>PROPOSITO</th>\n",
       "      <th>BALANCO_ATUAL</th>\n",
       "      <th>BALANCO_MEDIO_CREDITO</th>\n",
       "      <th>EMPREGADO</th>\n",
       "      <th>LOCAL</th>\n",
       "      <th>ESTADOCIVIL</th>\n",
       "      <th>OUTRASFUNCOES</th>\n",
       "      <th>RESIDENCIADESDE</th>\n",
       "      <th>TIPOSBENS</th>\n",
       "      <th>IDADE</th>\n",
       "      <th>OUTROSPLANOSPGTO</th>\n",
       "      <th>RESIDENCIA</th>\n",
       "      <th>CREDITOSEXISTENTES</th>\n",
       "      <th>EMPREGO</th>\n",
       "      <th>DEPENDENTES</th>\n",
       "      <th>TRABAESTRANGEIRO</th>\n",
       "      <th>CLASSE</th>\n",
       "    </tr>\n",
       "  </thead>\n",
       "  <tbody>\n",
       "    <tr>\n",
       "      <th>0</th>\n",
       "      <td>1</td>\n",
       "      <td>6</td>\n",
       "      <td>1</td>\n",
       "      <td>0</td>\n",
       "      <td>1169</td>\n",
       "      <td>4</td>\n",
       "      <td>3</td>\n",
       "      <td>4</td>\n",
       "      <td>3</td>\n",
       "      <td>2</td>\n",
       "      <td>4</td>\n",
       "      <td>0</td>\n",
       "      <td>67</td>\n",
       "      <td>1</td>\n",
       "      <td>2</td>\n",
       "      <td>2</td>\n",
       "      <td>1</td>\n",
       "      <td>1</td>\n",
       "      <td>1</td>\n",
       "      <td>0</td>\n",
       "    </tr>\n",
       "    <tr>\n",
       "      <th>1</th>\n",
       "      <td>0</td>\n",
       "      <td>48</td>\n",
       "      <td>2</td>\n",
       "      <td>0</td>\n",
       "      <td>5951</td>\n",
       "      <td>2</td>\n",
       "      <td>0</td>\n",
       "      <td>2</td>\n",
       "      <td>0</td>\n",
       "      <td>2</td>\n",
       "      <td>2</td>\n",
       "      <td>0</td>\n",
       "      <td>22</td>\n",
       "      <td>1</td>\n",
       "      <td>2</td>\n",
       "      <td>1</td>\n",
       "      <td>1</td>\n",
       "      <td>1</td>\n",
       "      <td>1</td>\n",
       "      <td>1</td>\n",
       "    </tr>\n",
       "    <tr>\n",
       "      <th>2</th>\n",
       "      <td>3</td>\n",
       "      <td>12</td>\n",
       "      <td>1</td>\n",
       "      <td>4</td>\n",
       "      <td>2096</td>\n",
       "      <td>2</td>\n",
       "      <td>1</td>\n",
       "      <td>2</td>\n",
       "      <td>3</td>\n",
       "      <td>2</td>\n",
       "      <td>3</td>\n",
       "      <td>0</td>\n",
       "      <td>49</td>\n",
       "      <td>1</td>\n",
       "      <td>2</td>\n",
       "      <td>1</td>\n",
       "      <td>2</td>\n",
       "      <td>2</td>\n",
       "      <td>1</td>\n",
       "      <td>0</td>\n",
       "    </tr>\n",
       "    <tr>\n",
       "      <th>3</th>\n",
       "      <td>1</td>\n",
       "      <td>42</td>\n",
       "      <td>2</td>\n",
       "      <td>5</td>\n",
       "      <td>7882</td>\n",
       "      <td>2</td>\n",
       "      <td>1</td>\n",
       "      <td>2</td>\n",
       "      <td>3</td>\n",
       "      <td>1</td>\n",
       "      <td>4</td>\n",
       "      <td>3</td>\n",
       "      <td>45</td>\n",
       "      <td>1</td>\n",
       "      <td>1</td>\n",
       "      <td>1</td>\n",
       "      <td>1</td>\n",
       "      <td>2</td>\n",
       "      <td>1</td>\n",
       "      <td>0</td>\n",
       "    </tr>\n",
       "    <tr>\n",
       "      <th>4</th>\n",
       "      <td>1</td>\n",
       "      <td>24</td>\n",
       "      <td>0</td>\n",
       "      <td>2</td>\n",
       "      <td>4870</td>\n",
       "      <td>2</td>\n",
       "      <td>0</td>\n",
       "      <td>3</td>\n",
       "      <td>3</td>\n",
       "      <td>2</td>\n",
       "      <td>4</td>\n",
       "      <td>2</td>\n",
       "      <td>53</td>\n",
       "      <td>1</td>\n",
       "      <td>1</td>\n",
       "      <td>2</td>\n",
       "      <td>1</td>\n",
       "      <td>2</td>\n",
       "      <td>1</td>\n",
       "      <td>1</td>\n",
       "    </tr>\n",
       "  </tbody>\n",
       "</table>\n",
       "</div>"
      ],
      "text/plain": [
       "   CHEQUEESPECIAL  USO_CREDITO  HISTORICO_CREDITO  PROPOSITO  BALANCO_ATUAL  \\\n",
       "0               1            6                  1          0           1169   \n",
       "1               0           48                  2          0           5951   \n",
       "2               3           12                  1          4           2096   \n",
       "3               1           42                  2          5           7882   \n",
       "4               1           24                  0          2           4870   \n",
       "\n",
       "   BALANCO_MEDIO_CREDITO  EMPREGADO  LOCAL  ESTADOCIVIL  OUTRASFUNCOES  \\\n",
       "0                      4          3      4            3              2   \n",
       "1                      2          0      2            0              2   \n",
       "2                      2          1      2            3              2   \n",
       "3                      2          1      2            3              1   \n",
       "4                      2          0      3            3              2   \n",
       "\n",
       "   RESIDENCIADESDE  TIPOSBENS  IDADE  OUTROSPLANOSPGTO  RESIDENCIA  \\\n",
       "0                4          0     67                 1           2   \n",
       "1                2          0     22                 1           2   \n",
       "2                3          0     49                 1           2   \n",
       "3                4          3     45                 1           1   \n",
       "4                4          2     53                 1           1   \n",
       "\n",
       "   CREDITOSEXISTENTES  EMPREGO  DEPENDENTES  TRABAESTRANGEIRO  CLASSE  \n",
       "0                   2        1            1                 1       0  \n",
       "1                   1        1            1                 1       1  \n",
       "2                   1        2            2                 1       0  \n",
       "3                   1        1            2                 1       0  \n",
       "4                   2        1            2                 1       1  "
      ]
     },
     "execution_count": 81,
     "metadata": {},
     "output_type": "execute_result"
    }
   ],
   "source": [
    "Credito.head()"
   ]
  },
  {
   "cell_type": "code",
   "execution_count": null,
   "metadata": {},
   "outputs": [
    {
     "name": "stderr",
     "output_type": "stream",
     "text": [
      "/home/loribao/anaconda3/lib/python3.7/site-packages/statsmodels/nonparametric/kde.py:487: RuntimeWarning: invalid value encountered in true_divide\n",
      "  binned = fast_linbin(X, a, b, gridsize) / (delta * nobs)\n",
      "/home/loribao/anaconda3/lib/python3.7/site-packages/statsmodels/nonparametric/kdetools.py:34: RuntimeWarning: invalid value encountered in double_scalars\n",
      "  FAC1 = 2*(np.pi*bw/RANGE)**2\n"
     ]
    },
    {
     "data": {
      "text/plain": [
       "<seaborn.axisgrid.PairGrid at 0x7ff7628c5d30>"
      ]
     },
     "execution_count": 82,
     "metadata": {},
     "output_type": "execute_result"
    }
   ],
   "source": [
    "sbs.pairplot(Credito,hue=\"CLASSE\")"
   ]
  },
  {
   "cell_type": "code",
   "execution_count": null,
   "metadata": {},
   "outputs": [],
   "source": [
    "Credito.corr().loc['BALANCO_ATUAL',:]"
   ]
  },
  {
   "cell_type": "code",
   "execution_count": null,
   "metadata": {},
   "outputs": [],
   "source": [
    "((Credito.corr().loc['CLASSE',:] > -0.01) & (Credito.corr().loc['CLASSE',:] < 0))"
   ]
  },
  {
   "cell_type": "code",
   "execution_count": null,
   "metadata": {},
   "outputs": [],
   "source": [
    "((Credito.corr().loc['CLASSE',:] < 0.01) & (Credito.corr().loc['CLASSE',:] > 0))"
   ]
  },
  {
   "cell_type": "code",
   "execution_count": null,
   "metadata": {},
   "outputs": [],
   "source": [
    "numero_do_teste = 1"
   ]
  },
  {
   "cell_type": "code",
   "execution_count": null,
   "metadata": {},
   "outputs": [],
   "source": [
    "labels_to_dummys_ = ['CHEQUEESPECIAL', 'HISTORICO_CREDITO', 'PROPOSITO','BALANCO_MEDIO_CREDITO', 'EMPREGADO','ESTADOCIVIL', 'OUTRASFUNCOES', 'RESIDENCIADESDE', 'TIPOSBENS','OUTROSPLANOSPGTO', 'RESIDENCIA', 'CREDITOSEXISTENTES','EMPREGO', 'TRABAESTRANGEIRO', 'CLASSE']\n",
    "labels_to_delete_ = ['LOCAL']\n",
    "df = preparar_teste(Dtf_to_Dummy=Credito,\n",
    "                    labels_to_dummys=labels_to_dummys_,\n",
    "                    labels_to_delete=labels_to_delete_,\n",
    "                    y_label='CLASSE')\n",
    "random_state_ = 4\n",
    "test_size_ = 0.3\n",
    "x_treino, x_teste, y_treino, y_teste = train_test_split(df.drop('CLASSE',axis=1),\n",
    "                                                        df['CLASSE'],\n",
    "                                                        test_size=test_size_,\n",
    "                                                        random_state=random_state_\n",
    "                                                       )"
   ]
  },
  {
   "cell_type": "code",
   "execution_count": null,
   "metadata": {},
   "outputs": [],
   "source": [
    "regr = LinearRegression() # cria o modelo\n",
    "regr.fit(x_treino, y_treino)\n",
    "regr_predict = regr.predict(x_teste)\n",
    "sbs.distplot(y_teste-regr_predict)"
   ]
  },
  {
   "cell_type": "code",
   "execution_count": null,
   "metadata": {},
   "outputs": [],
   "source": [
    "1-accuracy_score(y_teste,np.around(np.abs(regr_predict)))"
   ]
  },
  {
   "cell_type": "code",
   "execution_count": null,
   "metadata": {},
   "outputs": [],
   "source": [
    "regr.coef_[1]"
   ]
  },
  {
   "cell_type": "code",
   "execution_count": null,
   "metadata": {},
   "outputs": [],
   "source": [
    "x_treino.head(1).iloc[:,[2-1]]#.groupby('BALANCO_ATUAL').count()"
   ]
  },
  {
   "cell_type": "code",
   "execution_count": null,
   "metadata": {},
   "outputs": [],
   "source": [
    "    tree = RandomForestClassifier(n_estimators = 100)\n",
    "    tree.fit(x_treino, y_treino)        \n",
    "    1- accuracy_score(y_teste, tree.predict(x_teste))"
   ]
  },
  {
   "cell_type": "markdown",
   "metadata": {},
   "source": [
    "## Algoritmos de testes"
   ]
  },
  {
   "cell_type": "code",
   "execution_count": null,
   "metadata": {},
   "outputs": [],
   "source": [
    "x_treino, x_teste, y_treino, y_teste = train_test_split(df.drop('CLASSE',axis=1),\n",
    "                                                        df['CLASSE'],\n",
    "                                                        test_size=test_size_,\n",
    "                                                        random_state=random_state_\n",
    "                                                       )\n",
    "\n",
    "numero_do_teste = numero_do_teste +1\n",
    "for i in range(0,25):\n",
    "    lm = LogisticRegression(solver =\"newton-cg\")\n",
    "    lm.fit(x_treino,y_treino)\n",
    "    lm_predict = lm.predict(x_teste)  \n",
    "    ################################\n",
    "    tree_c = DecisionTreeClassifier()\n",
    "    tree_c.fit(x_treino, y_treino)\n",
    "    predict_tree_c = tree_c.predict(x_teste)\n",
    "    acerto_tree_c = accuracy_score(y_teste, predict_tree_c)\n",
    "    #################################\n",
    "    tree = RandomForestClassifier(n_estimators = 100)\n",
    "    tree.fit(x_treino, y_treino)\n",
    "    predict_tree = tree.predict(x_teste)\n",
    "    acerto_tree = accuracy_score(y_teste, predict_tree)\n",
    "    ##################################\n",
    "    svc = SVC(gamma=0.001,C=100,kernel='rbf',probability=True)\n",
    "    svc.fit(x_treino,y_treino)\n",
    "    predict_svc = svc.predict(x_teste)\n",
    "    acerto_svc = accuracy_score(y_teste,predict_svc)\n",
    "    ##################################\n",
    "    grid_dicionario = {'C':[0.01,0.1,1,10,100],'gamma':[1000,100,10,1,0.1,0.01,0.001,0.0001],'kernel':['rbf']}\n",
    "    grid_search = GridSearchCV(SVC(),grid_dicionario)\n",
    "    grid_search.fit(x_treino,y_treino)\n",
    "    print('GridSearchCV beste_params: ',grid_search.best_params_)\n",
    "    predict_grid = grid_search.predict(x_teste)\n",
    "    #################################################\n",
    "    k_m = KMeans(n_clusters=2,random_state=0,max_iter=300)\n",
    "    k_m.fit(x_treino)\n",
    "    k_m_predict = k_m.predict(x_teste)\n",
    "    ################################################\n",
    "    gNBayes = GaussianNB()\n",
    "    gNBayes.fit(x_treino,y_treino)\n",
    "    gNBayes_predict = gNBayes.predict(x_teste)\n",
    "    \n",
    "    Relatorio = Relatorio.append([{\n",
    "                   '00-LogisticRegression':1-accuracy_score(y_teste,lm_predict),\n",
    "                   '01-DecisionTreeClassifier':1-accuracy_score(y_teste, predict_tree_c),\n",
    "                   '02-RandomForestClassifier':1-accuracy_score(y_teste, predict_tree),\n",
    "                   '03-SVC':1-accuracy_score(y_teste,predict_svc),\n",
    "                   'GridSearchCV':1-accuracy_score(predict_grid,y_teste),\n",
    "                   '04-KMeans':1-accuracy_score(y_teste,k_m_predict),\n",
    "                   '05-GaussianNB':1-accuracy_score(y_teste,gNBayes_predict),\n",
    "                   '16-Dummy': len(labels_to_dummys_),\n",
    "                   '17-Dummy Campos':labels_to_dummys_,\n",
    "                   '18-Excuidos':labels_to_delete_,\n",
    "                   '20-random_state': random_state_,\n",
    "                   '21-test_size_': test_size_,\n",
    "                   'Numero_do_teste': numero_do_teste\n",
    "                  }],sort=True)\n",
    "\n"
   ]
  },
  {
   "cell_type": "code",
   "execution_count": null,
   "metadata": {},
   "outputs": [],
   "source": [
    "#Relatorio = pd.DataFrame()\n",
    "#Relatorio.head()"
   ]
  },
  {
   "cell_type": "code",
   "execution_count": null,
   "metadata": {},
   "outputs": [],
   "source": [
    "Relatorio[Relatorio['Numero_do_teste']==numero_do_teste].describe()"
   ]
  },
  {
   "cell_type": "code",
   "execution_count": null,
   "metadata": {},
   "outputs": [],
   "source": [
    "Relatorio"
   ]
  },
  {
   "cell_type": "code",
   "execution_count": null,
   "metadata": {},
   "outputs": [],
   "source": [
    "Relatorio.to_json('./relatorios/relatorio.json')"
   ]
  },
  {
   "cell_type": "code",
   "execution_count": null,
   "metadata": {},
   "outputs": [],
   "source": []
  }
 ],
 "metadata": {
  "kernelspec": {
   "display_name": "Python 3",
   "language": "python",
   "name": "python3"
  },
  "language_info": {
   "codemirror_mode": {
    "name": "ipython",
    "version": 3
   },
   "file_extension": ".py",
   "mimetype": "text/x-python",
   "name": "python",
   "nbconvert_exporter": "python",
   "pygments_lexer": "ipython3",
   "version": "3.7.3"
  }
 },
 "nbformat": 4,
 "nbformat_minor": 4
}
